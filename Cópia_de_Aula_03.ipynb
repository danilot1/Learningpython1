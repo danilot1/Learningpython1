{
  "nbformat": 4,
  "nbformat_minor": 0,
  "metadata": {
    "colab": {
      "provenance": [],
      "include_colab_link": true
    },
    "kernelspec": {
      "name": "python3",
      "display_name": "Python 3"
    },
    "language_info": {
      "name": "python"
    }
  },
  "cells": [
    {
      "cell_type": "markdown",
      "metadata": {
        "id": "view-in-github",
        "colab_type": "text"
      },
      "source": [
        "<a href=\"https://colab.research.google.com/github/danilot1/learningpython1/blob/main/C%C3%B3pia_de_Aula_03.ipynb\" target=\"_parent\"><img src=\"https://colab.research.google.com/assets/colab-badge.svg\" alt=\"Open In Colab\"/></a>"
      ]
    },
    {
      "cell_type": "markdown",
      "source": [
        "# ATIVIDADE DE ESTRUTURA DE REPETIÇÃO\n"
      ],
      "metadata": {
        "id": "kGV6Den_vGSW"
      }
    },
    {
      "cell_type": "markdown",
      "source": [
        "Faça um programa que imprima na tela os números de 0 a 30."
      ],
      "metadata": {
        "id": "SbvRKF9NvIYf"
      }
    },
    {
      "cell_type": "code",
      "source": [
        "for x in range (0,31):\n",
        " print(x)"
      ],
      "metadata": {
        "id": "ED6aOLqavKUa",
        "colab": {
          "base_uri": "https://localhost:8080/"
        },
        "outputId": "f28f98a3-afa0-44ea-f455-5685972cbe8a"
      },
      "execution_count": 1,
      "outputs": [
        {
          "output_type": "stream",
          "name": "stdout",
          "text": [
            "0\n",
            "1\n",
            "2\n",
            "3\n",
            "4\n",
            "5\n",
            "6\n",
            "7\n",
            "8\n",
            "9\n",
            "10\n",
            "11\n",
            "12\n",
            "13\n",
            "14\n",
            "15\n",
            "16\n",
            "17\n",
            "18\n",
            "19\n",
            "20\n",
            "21\n",
            "22\n",
            "23\n",
            "24\n",
            "25\n",
            "26\n",
            "27\n",
            "28\n",
            "29\n",
            "30\n"
          ]
        }
      ]
    },
    {
      "cell_type": "markdown",
      "source": [
        "Faça um programa que imprima todos os números múltiplos de 3 entre 0 e 100\n"
      ],
      "metadata": {
        "id": "sRNMLCAkvKsp"
      }
    },
    {
      "cell_type": "code",
      "source": [
        "for x in range (0,101):\n",
        "  if x % 3 == 0:\n",
        "    print(x)"
      ],
      "metadata": {
        "id": "2se9jJfRvMVR",
        "colab": {
          "base_uri": "https://localhost:8080/"
        },
        "outputId": "e484517e-8d1f-42c9-98c8-0c524e0b4ec7"
      },
      "execution_count": 2,
      "outputs": [
        {
          "output_type": "stream",
          "name": "stdout",
          "text": [
            "0\n",
            "3\n",
            "6\n",
            "9\n",
            "12\n",
            "15\n",
            "18\n",
            "21\n",
            "24\n",
            "27\n",
            "30\n",
            "33\n",
            "36\n",
            "39\n",
            "42\n",
            "45\n",
            "48\n",
            "51\n",
            "54\n",
            "57\n",
            "60\n",
            "63\n",
            "66\n",
            "69\n",
            "72\n",
            "75\n",
            "78\n",
            "81\n",
            "84\n",
            "87\n",
            "90\n",
            "93\n",
            "96\n",
            "99\n"
          ]
        }
      ]
    },
    {
      "cell_type": "markdown",
      "source": [
        "Faça um programa que solicita 10 números do usuário e em seguida exiba a mensagem “O número {x} é ímpar/par” de acordo com o valor que foi digitado.\n"
      ],
      "metadata": {
        "id": "2L1nKD4EvMjJ"
      }
    },
    {
      "cell_type": "code",
      "source": [
        "for x in range(0,10):\n",
        "  numeros = float(input(\"Digite seu número: \"))\n",
        "  if numeros % 2 == 0:\n",
        "      print(\"par\")\n",
        "  else:\n",
        "      print(\"ímpar\")"
      ],
      "metadata": {
        "id": "E2AxKSQkvOeg",
        "colab": {
          "base_uri": "https://localhost:8080/"
        },
        "outputId": "ebc3c67e-2061-4e8d-f46e-cd2fd1a6d08d"
      },
      "execution_count": 6,
      "outputs": [
        {
          "output_type": "stream",
          "name": "stdout",
          "text": [
            "Digite seu número: 1\n",
            "ímpar\n",
            "Digite seu número: 2\n",
            "par\n",
            "Digite seu número: 3\n",
            "ímpar\n",
            "Digite seu número: 4\n",
            "par\n",
            "Digite seu número: 5\n",
            "ímpar\n",
            "Digite seu número: 6\n",
            "par\n",
            "Digite seu número: 7\n",
            "ímpar\n",
            "Digite seu número: 8\n",
            "par\n",
            "Digite seu número: 9\n",
            "ímpar\n",
            "Digite seu número: 10\n",
            "par\n"
          ]
        }
      ]
    },
    {
      "cell_type": "markdown",
      "source": [
        "Faça um programa que solicite uma palavra ao usuário. Caso a palavra “sim”, o programa imprime a mensagem “você decidiu continuar” e solicita mais uma vez uma palavra ao usuário. Caso o usuário digite “não”, imprima a mensagem “você saiu”, e encerre o programa. Para qualquer outra palavra do usuário, exiba a mensagem “palavra inválida” e continue solicitando uma palavra correta."
      ],
      "metadata": {
        "id": "X5sxsZlmvOlv"
      }
    },
    {
      "cell_type": "code",
      "source": [
        "escolha = \"sim\"\n",
        "\n",
        "while escolha == \"sim\":\n",
        "  escolha = input(\"Digite sim ou não: \")\n",
        "  if escolha == \"sim\":\n",
        "    print(\"você decidiu continuar\")\n",
        "  elif escolha == \"não\":\n",
        "    print(\"você decidiu sair\")\n",
        "    break\n",
        "  elif escolha != \"sim\" and escolha != \"não\":\n",
        "      print (\"Desculpe digite novamente\")"
      ],
      "metadata": {
        "id": "DTm_7NETvQTt",
        "colab": {
          "base_uri": "https://localhost:8080/"
        },
        "outputId": "0f30d4d3-029d-4e1a-b4aa-2c6dc0788b12"
      },
      "execution_count": null,
      "outputs": [
        {
          "output_type": "stream",
          "name": "stdout",
          "text": [
            "Digite sim ou não: sim\n",
            "você decidiu continuar\n",
            "Digite sim ou não: não\n",
            "você decidiu sair\n"
          ]
        }
      ]
    },
    {
      "cell_type": "markdown",
      "source": [
        "Faça um programa que solicite a idade de 10 usuários, em seguida exiba a média das idades.\n"
      ],
      "metadata": {
        "id": "lhXiknQ6vQUY"
      }
    },
    {
      "cell_type": "code",
      "source": [
        "lista = []\n",
        "#lst.append(20)\n",
        "#lst.pop()\n",
        "for x in range (0 , 10):\n",
        "  idade = int(input(\"Digite sua idade:\"))\n",
        "  lista.append(idade)\n",
        "soma = 0\n",
        "for item in lista:\n",
        "  soma = soma+item\n",
        "media = soma/10\n",
        "print(\"A média das idades é:\", media)"
      ],
      "metadata": {
        "id": "zFOwXikLvSTP",
        "colab": {
          "base_uri": "https://localhost:8080/"
        },
        "outputId": "22abc092-cfd4-4aca-cbe6-cfc041d7c580"
      },
      "execution_count": null,
      "outputs": [
        {
          "output_type": "stream",
          "name": "stdout",
          "text": [
            "Digite sua idade:7\n",
            "Digite sua idade:7\n",
            "Digite sua idade:7\n",
            "Digite sua idade:7\n",
            "Digite sua idade:7\n",
            "Digite sua idade:7\n",
            "Digite sua idade:7\n",
            "Digite sua idade:7\n",
            "Digite sua idade:7\n",
            "Digite sua idade:7\n",
            "A média das idades é: 7.0\n"
          ]
        }
      ]
    },
    {
      "cell_type": "markdown",
      "source": [
        "Vamos criar um jogo de adivinha. Primeiramente crie uma variável com um número secreto. Em seguida faça um looping que solicite um número ao usuário. Verifique se o usuário acertou. Caso tenha acertado, mostre a mensagem “você acertou! O número secreto é {…}”. O programa somente para de solicitar os números quando o número secreto é acertado."
      ],
      "metadata": {
        "id": "DnFYArjNvSZW"
      }
    },
    {
      "cell_type": "code",
      "source": [
        "print(\"Jogo de adivinha\")\n",
        "numero_secreto = 33\n",
        "numero_escolhido= int\n",
        "while numero_escolhido!=numero_secreto:\n",
        "  numero_escolhido= int(input(\"Digite seu numero: \"))\n",
        "  if numero_escolhido!=numero_secreto:\n",
        "    print(\"Voce errou, tente novamente\")\n",
        "  elif numero_escolhido == numero_secreto:\n",
        "    print(\"Você acertou, parabéns\")\n",
        "    break"
      ],
      "metadata": {
        "id": "jkQnNuqnvU-Q",
        "colab": {
          "base_uri": "https://localhost:8080/"
        },
        "outputId": "3f3dbb62-0339-4e92-ffab-63f7db5b2759"
      },
      "execution_count": null,
      "outputs": [
        {
          "output_type": "stream",
          "name": "stdout",
          "text": [
            "Jogo de adivinha\n",
            "Digite seu numero: 1\n",
            "Voce errou, tente novamente\n",
            "Digite seu numero: 33\n",
            "Você acertou, parabéns\n"
          ]
        }
      ]
    },
    {
      "cell_type": "markdown",
      "source": [
        "Faça um programa que peça 10 números inteiros, calcule e mostre a quantidade de números pares e a quantidade de números ímpares."
      ],
      "metadata": {
        "id": "9aZ5_z9BvVG5"
      }
    },
    {
      "cell_type": "code",
      "source": [
        "contp = 0\n",
        "conti = 0\n",
        "for x in range (0,10):\n",
        "  numeros = int(input(\"Digite seu numero\"))\n",
        "  if numeros % 2 == 0:\n",
        "    contp = contp + 1\n",
        "  else:\n",
        "    conti = conti + 1\n",
        "print(\"Quantidade de numeros impares é\",conti, \"e de pares é\", contp)\n",
        "  "
      ],
      "metadata": {
        "id": "p8pMclkovXRo",
        "colab": {
          "base_uri": "https://localhost:8080/"
        },
        "outputId": "48061565-b6df-475b-f485-7f674f50a913"
      },
      "execution_count": null,
      "outputs": [
        {
          "output_type": "stream",
          "name": "stdout",
          "text": [
            "Digite seu numero1\n",
            "Digite seu numero1\n",
            "Digite seu numero1\n",
            "Digite seu numero1\n",
            "Digite seu numero2\n",
            "Digite seu numero2\n",
            "Digite seu numero2\n",
            "Digite seu numero2\n",
            "Digite seu numero1\n",
            "Digite seu numero2\n",
            "Quantidade de numeros impares é 5 e de pares é 5\n"
          ]
        }
      ]
    },
    {
      "cell_type": "markdown",
      "source": [
        "Faça um programa que solicite dois números ao usuário entre 0 e 20. Em seguida imprima na tela todos os números que existem no intervalo."
      ],
      "metadata": {
        "id": "cfmf_gBvvXd2"
      }
    },
    {
      "cell_type": "code",
      "source": [
        "num1 = int(input(\"Digite um número de 0 a 20: \"))\n",
        "num2 = int(input(\"Digite um número de 0 a 20: \"))\n",
        "for x in range(num1,num2):\n",
        "  print(x)"
      ],
      "metadata": {
        "id": "Yg6cYOM1vZQu",
        "colab": {
          "base_uri": "https://localhost:8080/"
        },
        "outputId": "63f543c4-916a-4c56-e46a-9c15c773af90"
      },
      "execution_count": null,
      "outputs": [
        {
          "output_type": "stream",
          "name": "stdout",
          "text": [
            "Digite um número de 0 a 20: 0\n",
            "Digite um número de 0 a 20: 20\n",
            "0\n",
            "1\n",
            "2\n",
            "3\n",
            "4\n",
            "5\n",
            "6\n",
            "7\n",
            "8\n",
            "9\n",
            "10\n",
            "11\n",
            "12\n",
            "13\n",
            "14\n",
            "15\n",
            "16\n",
            "17\n",
            "18\n",
            "19\n"
          ]
        }
      ]
    },
    {
      "cell_type": "markdown",
      "source": [
        "Faça um programa que leia um nome de usuário e a sua senha e não aceite a senha igual ao nome do usuário, mostrando uma mensagem de erro e voltando a pedir as informações. As informações devem ser solicitadas enquanto o usuário digitar as informações incorretas."
      ],
      "metadata": {
        "id": "S9IlM-ONvZY7"
      }
    },
    {
      "cell_type": "code",
      "source": [
        "usuario = input(\"Digite seu nome:\")\n",
        "senha = input(\"Digite sua senha:\")\n",
        "if usuario!=senha:\n",
        "  print(\"Cadasto realizado\")\n",
        "while usuario == senha:\n",
        "  print(\"Erro a senha não pode ser igual ao nome de usuário\")\n",
        "  usuario = input(\"Digite seu nome:\")\n",
        "  senha = input(\"Digite sua senha:\")\n",
        "  if usuario!=senha:\n",
        "    print(\"Cadasto realizado\")"
      ],
      "metadata": {
        "id": "dJSTfWFUvbPO",
        "colab": {
          "base_uri": "https://localhost:8080/"
        },
        "outputId": "5c4b415e-c8f8-4ec8-c02a-3ce5b8f1c903"
      },
      "execution_count": null,
      "outputs": [
        {
          "output_type": "stream",
          "name": "stdout",
          "text": [
            "Digite seu nome:aba\n",
            "Digite sua senha:aba\n",
            "Erro a senha não pode ser igual ao nome de usuário\n",
            "Digite seu nome:aba \n",
            "Digite sua senha:ca\n",
            "Cadasto realizado\n"
          ]
        }
      ]
    },
    {
      "cell_type": "markdown",
      "source": [
        "Faça um programa que leia 5 números e informe a soma e a média dos números."
      ],
      "metadata": {
        "id": "_dHEmr2pvbW7"
      }
    },
    {
      "cell_type": "code",
      "source": [
        "lst = []\n",
        "for x in range (0,5):\n",
        "  numeros = int(input(\"Digite seu número: \"))\n",
        "  lst.append(numeros)\n",
        "  soma=0\n",
        "  for item in lst:\n",
        "    soma= soma + item\n",
        "    media = soma/5\n",
        "print( \"Soma:\", soma, \"Média:\", media)"
      ],
      "metadata": {
        "id": "140pKhkxvczg",
        "colab": {
          "base_uri": "https://localhost:8080/"
        },
        "outputId": "1f623d2d-239d-4de7-923b-fc873bb5c05d"
      },
      "execution_count": null,
      "outputs": [
        {
          "output_type": "stream",
          "name": "stdout",
          "text": [
            "Digite seu número: 1\n",
            "Digite seu número: 1\n",
            "Digite seu número: 1\n",
            "Digite seu número: 1\n",
            "Digite seu número: 1\n",
            "Soma: 5 Média: 1.0\n"
          ]
        }
      ]
    },
    {
      "cell_type": "markdown",
      "source": [
        "Vamos ajudar uma criança a aprender a tabuada. Faça um programa que solicite um número de 1 a 9, e em seguida mostre a tabuada desse número. Ex. Dada a entrada 5 seu programa deve mostrar:\n",
        "*\t5 x 1 = 5\n",
        "*\t5 x 2 = 10\n",
        "*\t...\n"
      ],
      "metadata": {
        "id": "KDrNFFOBvc-H"
      }
    },
    {
      "cell_type": "code",
      "source": [
        "print(\"Tabuada\")\n",
        "num = int(input(\"Qual tabuada você quer aprender ?\"))\n",
        "for x in range(1,10):\n",
        "  print('{} x {:2} = {}'.format(num, x ,num *x))\n"
      ],
      "metadata": {
        "id": "PQbctqIPvfPB",
        "colab": {
          "base_uri": "https://localhost:8080/"
        },
        "outputId": "ab4c452c-7ea9-4c3a-bcb1-35fb019092c4"
      },
      "execution_count": null,
      "outputs": [
        {
          "output_type": "stream",
          "name": "stdout",
          "text": [
            "Tabuada\n",
            "Qual tabuada você quer aprender ?6\n",
            "6 x  1 = 6\n",
            "6 x  2 = 12\n",
            "6 x  3 = 18\n",
            "6 x  4 = 24\n",
            "6 x  5 = 30\n",
            "6 x  6 = 36\n",
            "6 x  7 = 42\n",
            "6 x  8 = 48\n",
            "6 x  9 = 54\n"
          ]
        }
      ]
    },
    {
      "cell_type": "markdown",
      "source": [
        "Você como programador foi convidado a desenvolver um sistema da panificadora São José. Essa panificadora adota uma política de preços de desconto progressivo. o Cálculo do valor da unidade de pão é de R$0,18 de 1 a 10 pães, R$0,16 de 11 a 20 pães, R$0,13 de 21 a 30 pães, R$0,09 a partir de de 31 pães. Faça um algoritmo que receba a quantidade de pães desejada e calcule o preço total da compra. Mostre a resposta da seguinte forma:\n",
        "* 1 unidade(s): R$0,x\n",
        "* 2 unidade(s): R$0,2x\n",
        "* …\n",
        "* Valor total: R$ x, x\n"
      ],
      "metadata": {
        "id": "n91iGFrYvfYg"
      }
    },
    {
      "cell_type": "code",
      "source": [
        "valor_do_pao = int\n",
        "quantidade_de_paes = int (input(\"Digite o numero de paes: \"))\n",
        "if quantidade_de_paes == 1 or quantidade_de_paes <= 10:\n",
        "    valor_do_pao = 0.18\n",
        "    valor_total = valor_do_pao  * quantidade_de_paes\n",
        "elif quantidade_de_paes == 11 or quantidade_de_paes <= 20:\n",
        "    valor_do_pao = 0.16 \n",
        "    valor_total = valor_do_pao  * quantidade_de_paes\n",
        "elif quantidade_de_paes == 21 or quantidade_de_paes <= 30:\n",
        "    valor_do_pao = 0.13 \n",
        "    valor_total = valor_do_pao  * quantidade_de_paes\n",
        "elif quantidade_de_paes >= 31:\n",
        "    valor_do_pao = 0.09 \n",
        "    valor_total = valor_do_pao  * quantidade_de_paes\n",
        "print(quantidade_de_paes, \"unidade(s) :R$\", valor_do_pao)\n",
        "print(\"valor total:R$\", valor_total)"
      ],
      "metadata": {
        "id": "xhlo8tnuvois",
        "colab": {
          "base_uri": "https://localhost:8080/"
        },
        "outputId": "fbbad701-d5f6-49c1-ff0e-d6f8783632d7"
      },
      "execution_count": null,
      "outputs": [
        {
          "output_type": "stream",
          "name": "stdout",
          "text": [
            "Digite o numero de paes: 30\n",
            "30 unidade(s) :R$ 0.13\n",
            "valor total:R$ 3.9000000000000004\n"
          ]
        }
      ]
    },
    {
      "cell_type": "markdown",
      "source": [
        "Vamos fazer um jogo. Defina um número secreto. Em seguida, solicite um número ao usuário. Caso o usuário acerte, exiba a mensagem “Parabéns! Você acertou.” Caso o valor digitado seja menor que o número secreto, exiba “Ainda não. Escolha um número maior”. Caso o valor digitado seja maior, exiba a mensagem “Ainda não. Escolha um número menor.” . O jogo só termina quando o usuário acertar o número secreto. Use a função random.randint(1, 21) para gerar um número aleatório entre 1 e 20."
      ],
      "metadata": {
        "id": "o6IFrjaDvooq"
      }
    },
    {
      "cell_type": "code",
      "source": [
        "import random\n",
        "numero_secreto = random.randint(1, 21)"
      ],
      "metadata": {
        "colab": {
          "base_uri": "https://localhost:8080/"
        },
        "id": "oDAIx2h-vsyr",
        "outputId": "4f6df635-c683-449e-dfa5-106b9af406be"
      },
      "execution_count": null,
      "outputs": [
        {
          "output_type": "stream",
          "name": "stdout",
          "text": [
            "5\n"
          ]
        }
      ]
    },
    {
      "cell_type": "markdown",
      "source": [
        "Faça um programa que solicite ao usuário 10 números inteiros. Em seguida informe o menor deles."
      ],
      "metadata": {
        "id": "YAvx5bfQvs5H"
      }
    },
    {
      "cell_type": "code",
      "source": [
        "cn = 1000\n",
        "for x in range(0,10):\n",
        "  numeros = int(input(\"Digite seus numero:\"))\n",
        "  if(numeros<cn):\n",
        "    cn = numeros\n",
        "print(\"O menor numero é\", cn)"
      ],
      "metadata": {
        "id": "e1xLG784vvJK",
        "colab": {
          "base_uri": "https://localhost:8080/"
        },
        "outputId": "7cfbc29d-39d2-4557-9cf1-bbfba040b381"
      },
      "execution_count": null,
      "outputs": [
        {
          "output_type": "stream",
          "name": "stdout",
          "text": [
            "Digite seus numeros:1\n",
            "Digite seus numeros:2\n",
            "Digite seus numeros:3\n",
            "Digite seus numeros:4\n",
            "Digite seus numeros:5\n",
            "Digite seus numeros:6\n",
            "Digite seus numeros:7\n",
            "Digite seus numeros:8\n",
            "Digite seus numeros:9\n",
            "Digite seus numeros:10\n",
            "O menor numero é 1\n"
          ]
        }
      ]
    },
    {
      "cell_type": "markdown",
      "source": [
        "Faça um programa que solicite ao usuário 10 números inteiros. Em seguida informe o maior deles."
      ],
      "metadata": {
        "id": "PTK9GqUIvvUX"
      }
    },
    {
      "cell_type": "code",
      "source": [
        "cn = 0\n",
        "for x in range(0,10):\n",
        "  numeros = int(input(\"Digite seus numero:\"))\n",
        "  if(numeros<cn):\n",
        "    cn = numeros\n",
        "print(\"O maior numero é\", cn)"
      ],
      "metadata": {
        "id": "c3wR69r1vwvx",
        "colab": {
          "base_uri": "https://localhost:8080/"
        },
        "outputId": "2f85b28e-030d-4800-9a87-2350826bff3e"
      },
      "execution_count": null,
      "outputs": [
        {
          "output_type": "stream",
          "name": "stdout",
          "text": [
            "Digite seus numeros:10\n",
            "Digite seus numeros:20\n",
            "Digite seus numeros:30\n",
            "Digite seus numeros:40\n",
            "Digite seus numeros:50\n",
            "Digite seus numeros:60\n",
            "Digite seus numeros:70\n",
            "Digite seus numeros:80\n",
            "Digite seus numeros:90\n",
            "Digite seus numeros:100\n",
            "O maior numero é 0\n"
          ]
        }
      ]
    },
    {
      "cell_type": "markdown",
      "source": [
        "Um atleta olímpico de salto participou das olimpíadas do brasil e fez um total de 5 saltos. Faça um programa que solicite a distância atingida pelo atleta em cada salto e exiba: O tamanho médio dos saltos, o menor salto e o maior salto."
      ],
      "metadata": {
        "id": "PrIIMoeevw4C"
      }
    },
    {
      "cell_type": "code",
      "source": [
        "lst = []\n",
        "cn = 10000\n",
        "for x in range(0,5):\n",
        "  salto = float(input(\"Digite a distancia do salto: \"))\n",
        "  lst.append(salto)\n",
        "soma = 0\n",
        "for item in lst:\n",
        "  soma = soma + item\n",
        "  media = soma/5\n",
        "print(\"Media: \", media)\n",
        "if salto > x:\n",
        "  cn = salto\n",
        "  print(\"Maiores\", cn)\n",
        "elif salto < x:\n",
        "  cn = salto\n",
        "\n",
        "  \n",
        "  print(\"Menores\", cn)"
      ],
      "metadata": {
        "id": "hqpu2MskvyK3",
        "colab": {
          "base_uri": "https://localhost:8080/"
        },
        "outputId": "d5b252ae-73be-43d1-a3b5-dcbfd061e3e6"
      },
      "execution_count": 13,
      "outputs": [
        {
          "output_type": "stream",
          "name": "stdout",
          "text": [
            "Digite a distancia do salto: 3\n",
            "Digite a distancia do salto: 3\n",
            "Digite a distancia do salto: 1\n",
            "Digite a distancia do salto: 5\n",
            "Digite a distancia do salto: 5\n",
            "Media:  3.4\n",
            "Maiores 5.0\n"
          ]
        }
      ]
    }
  ]
}